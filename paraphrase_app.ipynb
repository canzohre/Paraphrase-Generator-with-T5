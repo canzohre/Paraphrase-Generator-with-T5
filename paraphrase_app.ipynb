{
 "cells": [
  {
   "cell_type": "code",
   "execution_count": 2,
   "id": "35308b1b",
   "metadata": {},
   "outputs": [],
   "source": [
    "import pandas as pd\n",
    "import os\n",
    "from datasets import load_dataset\n",
    "from transformers import AutoTokenizer\n",
    "from transformers import AutoModelForSeq2SeqLM, DataCollatorForSeq2Seq,Seq2SeqTrainingArguments, Seq2SeqTrainer\n",
    "import datasets as dt\n",
    "import numpy as np\n",
    "import locale\n",
    "import torch\n",
    "from tapaco_notebook import  paraphrase_generator"
   ]
  },
  {
   "cell_type": "code",
   "execution_count": 4,
   "id": "bba8dd51",
   "metadata": {},
   "outputs": [
    {
     "name": "stdout",
     "output_type": "stream",
     "text": [
      "cp1254\n"
     ]
    }
   ],
   "source": [
    "tokenizer = AutoTokenizer.from_pretrained(\"./checkpoint-44000/\")\n",
    "model = AutoModelForSeq2SeqLM.from_pretrained(\"./checkpoint-44000/\")\n",
    "max_input_length = 512\n",
    "\n",
    "\n",
    "print(locale.getpreferredencoding())\n",
    "def getpreferredencoding(do_setlocale = True):\n",
    "    return \"UTF-8\"\n",
    "locale.getpreferredencoding = getpreferredencoding\n"
   ]
  },
  {
   "cell_type": "code",
   "execution_count": 17,
   "id": "3797e973",
   "metadata": {},
   "outputs": [
    {
     "name": "stdout",
     "output_type": "stream",
     "text": [
      "please enter a sentence: A blond-haired doctor and her African american assistant looking threw new medical manuals.\n",
      "paraphrase of this sentence is:  A blonde doctor and her African-American assistant threw new medical manuals.\n"
     ]
    }
   ],
   "source": [
    "sent=input(\"please enter a sentence: \")\n",
    "paraphrase_generator(sent)\n"
   ]
  },
  {
   "cell_type": "code",
   "execution_count": null,
   "id": "f1297ba6",
   "metadata": {},
   "outputs": [],
   "source": [
    "#please enter a sentence: I have been there for too long.\n",
    "#paraphrase of this sentence is:  I've been there a long time.\n",
    "\n",
    "#please enter a sentence:  Whatever tomorrow brings, I'll be there.\n",
    "#paraphrase of this sentence is:  I'll be there no matter what tomorrow brings.\n",
    "\n",
    "#please enter a sentence: A girl playing a violin along with a group of people\n",
    "#paraphrase of this sentence is:A girl playing a violin with a group of people is accompanied by a girl playing a violin.\n",
    "\n",
    "#please enter a sentence: A person dressed in a dress with flowers and a stuffed bee attached to it, is pushing a baby stroller down the street.\n",
    "#paraphrase of this sentence is:  A person in a dress with flowers and a stuffed bee is pushing a baby stroller down the street.\n",
    "\n",
    "#please enter a sentence: A pet is enjoying a game of fetch with his owner.\n",
    "#paraphrase of this sentence is:  A pet is playing fetch with its owner.\n",
    "\n",
    "#please enter a sentence: A lady sitting on a bench in the park.\n",
    "#paraphrase of this sentence is:  A woman sits on a bench in the park.\n",
    "\n",
    "#please enter a sentence: Are you not able to speak English?\n",
    "#paraphrase of this sentence is:  Can't you speak English?\n",
    "\n",
    "#please enter a sentence: The market is about to get harder, but possible to navigate.\n",
    "#paraphrase of this sentence is:  The market is going to get harder, but it's still possible to navigate.\n",
    "\n",
    "#please enter a sentence: Pursuing a strategy of nonviolent protest, Gandhi took the administration by surprise and won concessions from the authorities.\n",
    "#paraphrase of this sentence is:  Gandhi, pursuing a nonviolent protest strategy, surprised the administration and won concessions from the authorities.\n",
    "\n",
    "#please enter a sentence: Falcon Heavy is the largest rocket since NASA's Saturn V booster, which was used for the Moon missions in the 1970s.\n",
    "#paraphrase of this sentence is:  Falcon Heavy is the largest rocket since the Saturn V booster used in the 1970s for the Moon missions.\n",
    "\n"
   ]
  }
 ],
 "metadata": {
  "kernelspec": {
   "display_name": "Python 3 (ipykernel)",
   "language": "python",
   "name": "python3"
  },
  "language_info": {
   "codemirror_mode": {
    "name": "ipython",
    "version": 3
   },
   "file_extension": ".py",
   "mimetype": "text/x-python",
   "name": "python",
   "nbconvert_exporter": "python",
   "pygments_lexer": "ipython3",
   "version": "3.9.16"
  }
 },
 "nbformat": 4,
 "nbformat_minor": 5
}
